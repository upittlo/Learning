{
 "cells": [
  {
   "cell_type": "code",
   "execution_count": 1,
   "metadata": {
    "collapsed": true
   },
   "outputs": [],
   "source": [
    "import numpy as np\n"
   ]
  },
  {
   "cell_type": "code",
   "execution_count": 2,
   "metadata": {
    "collapsed": false
   },
   "outputs": [
    {
     "data": {
      "text/plain": [
       "array([[ 0,  1,  2,  3,  4],\n",
       "       [ 5,  6,  7,  8,  9],\n",
       "       [10, 11, 12, 13, 14]])"
      ]
     },
     "execution_count": 2,
     "metadata": {},
     "output_type": "execute_result"
    }
   ],
   "source": [
    "a = np.arange(15).reshape(3,5)\n",
    "a"
   ]
  },
  {
   "cell_type": "code",
   "execution_count": 16,
   "metadata": {
    "collapsed": false
   },
   "outputs": [
    {
     "name": "stdout",
     "output_type": "stream",
     "text": [
      "shape =  (15,)\n",
      "dimension =  1\n",
      "data type =  int32\n",
      "itemszie =  4\n",
      "size =  15\n"
     ]
    },
    {
     "data": {
      "text/plain": [
       "array([6, 7, 8])"
      ]
     },
     "execution_count": 16,
     "metadata": {},
     "output_type": "execute_result"
    }
   ],
   "source": [
    "print(\"shape = \",a.shape)\n",
    "print(\"dimension = \",a.ndim)\n",
    "print(\"data type = \",a.dtype.name)\n",
    "print(\"itemszie = \",a.itemsize)\n",
    "print(\"size = \",a.size)\n",
    "type(a)\n",
    "\n",
    "b = np.array([6,7,8])\n",
    "b"
   ]
  },
  {
   "cell_type": "markdown",
   "metadata": {},
   "source": [
    "#  Array Creation"
   ]
  },
  {
   "cell_type": "code",
   "execution_count": 18,
   "metadata": {
    "collapsed": false
   },
   "outputs": [
    {
     "name": "stdout",
     "output_type": "stream",
     "text": [
      "[[ 1.5  2.   3. ]\n",
      " [ 4.   5.   6. ]]\n"
     ]
    },
    {
     "data": {
      "text/plain": [
       "array([[ 1.+0.j,  2.+0.j],\n",
       "       [ 3.+0.j,  4.+0.j]])"
      ]
     },
     "execution_count": 18,
     "metadata": {},
     "output_type": "execute_result"
    }
   ],
   "source": [
    "a = np.array([1,2,3,4])\n",
    "\n",
    "### automatically transform to two-dimensional arrays\n",
    "\n",
    "b = np.array([(1.5,2,3),(4,5,6)])\n",
    "print(b)\n",
    "c = np.array([[1,2],[3,4]],dtype = complex)\n",
    "c"
   ]
  },
  {
   "cell_type": "code",
   "execution_count": 22,
   "metadata": {
    "collapsed": false
   },
   "outputs": [
    {
     "data": {
      "text/plain": [
       "array([[ 0.,  0.,  0.],\n",
       "       [ 0.,  0.,  0.]])"
      ]
     },
     "execution_count": 22,
     "metadata": {},
     "output_type": "execute_result"
    }
   ],
   "source": [
    "### create zero array with shape\n",
    "np.zeros((3,4))\n",
    "\n",
    "## create one array with shape\n",
    "np.ones((2,3,4),dtype = int)\n",
    "\n",
    "np.empty((2,3))"
   ]
  },
  {
   "cell_type": "markdown",
   "metadata": {},
   "source": [
    "### Sequence of numbers >> np.arange()\n",
    "###  The result is an np array\n",
    "### np.arange(s,e,step)\n",
    "\n",
    "### np.linspace(s,e,number of steps)"
   ]
  },
  {
   "cell_type": "code",
   "execution_count": 26,
   "metadata": {
    "collapsed": false
   },
   "outputs": [
    {
     "name": "stdout",
     "output_type": "stream",
     "text": [
      "[10 15 20 25]\n",
      "[ 0.    0.25  0.5   0.75  1.    1.25  1.5   1.75  2.  ]\n"
     ]
    }
   ],
   "source": [
    "print(np.arange(10,30,5))\n",
    "\n",
    "print(np.linspace(0,2,9))"
   ]
  },
  {
   "cell_type": "markdown",
   "metadata": {},
   "source": [
    "# Basic Operations\n",
    "\n",
    "#### Arithmetic operatiors on arrays apply elementwise. New array is created and filled with the result"
   ]
  },
  {
   "cell_type": "code",
   "execution_count": 33,
   "metadata": {
    "collapsed": false
   },
   "outputs": [
    {
     "name": "stdout",
     "output_type": "stream",
     "text": [
      "[20 29 38 47]\n",
      "[0 1 4 9]\n",
      "[ 9.12945251 -9.88031624  7.4511316  -2.62374854]\n",
      "[ True False False False]\n"
     ]
    }
   ],
   "source": [
    "a = np.array([20,30,40,50])\n",
    "b = np.arange(4)\n",
    "\n",
    "c = a-b\n",
    "\n",
    "print(c)\n",
    "\n",
    "print(b**2)\n",
    "\n",
    "print(10*np.sin(a))\n",
    "\n",
    "print(a<30)"
   ]
  },
  {
   "cell_type": "markdown",
   "metadata": {},
   "source": [
    "##  * >> elementwise multiply\n",
    "##  dot >> inner product"
   ]
  },
  {
   "cell_type": "code",
   "execution_count": 37,
   "metadata": {
    "collapsed": false
   },
   "outputs": [
    {
     "name": "stdout",
     "output_type": "stream",
     "text": [
      "[[2 0]\n",
      " [0 4]]\n",
      "[[5 4]\n",
      " [3 4]]\n"
     ]
    }
   ],
   "source": [
    "A = np.array([[1,1],[0,1]])\n",
    "B = np.array([[2,0],[3,4]])\n",
    "\n",
    "print(A*B)\n",
    "\n",
    "print(np.dot(A,B))"
   ]
  },
  {
   "cell_type": "markdown",
   "metadata": {},
   "source": [
    "##  np.sum(), np.min, np.max() --> If not set axis parameter, will apply to the array as though it \n",
    "\n",
    "##  were a list of numbers"
   ]
  },
  {
   "cell_type": "code",
   "execution_count": 42,
   "metadata": {
    "collapsed": false
   },
   "outputs": [
    {
     "name": "stdout",
     "output_type": "stream",
     "text": [
      "[[ 0.89875207  0.29345881  0.64355365]\n",
      " [ 0.54386692  0.57114328  0.52227134]]\n",
      "3.4730460679\n",
      "0.293458805718\n",
      "0.898752071607\n",
      "\n",
      "[[ 0  1  2  3]\n",
      " [ 4  5  6  7]\n",
      " [ 8  9 10 11]]\n",
      "[12 15 18 21]\n",
      "[[ 0  1  3  6]\n",
      " [ 4  9 15 22]\n",
      " [ 8 17 27 38]]\n"
     ]
    }
   ],
   "source": [
    "a = np.random.random((2,3))\n",
    "print(a)\n",
    "\n",
    "print(a.sum())\n",
    "print(a.min())\n",
    "print(a.max())\n",
    "print()\n",
    "b = np.arange(12).reshape(3,4)\n",
    "print(b)\n",
    "print(b.sum(axis = 0))\n",
    "\n",
    "print(b.cumsum(axis = 1))    # >> cumulative sum of each row\n",
    "### axis = 0  >> vertically\n",
    "### axis = 1  >> h"
   ]
  },
  {
   "cell_type": "markdown",
   "metadata": {},
   "source": [
    "# Universal function\n",
    "\n",
    "###  elementwise"
   ]
  },
  {
   "cell_type": "code",
   "execution_count": 44,
   "metadata": {
    "collapsed": false
   },
   "outputs": [
    {
     "name": "stdout",
     "output_type": "stream",
     "text": [
      "[ 1.          2.71828183  7.3890561 ]\n",
      "[ 0.          1.          1.41421356]\n"
     ]
    }
   ],
   "source": [
    "B = np.arange(3)\n",
    "\n",
    "print(np.exp(B))\n",
    "\n",
    "print(np.sqrt(B))\n",
    "\n",
    "\n"
   ]
  },
  {
   "cell_type": "markdown",
   "metadata": {},
   "source": [
    "## One dimensional array can be slicing, iterate, indexing\n",
    "\n",
    "## Multimensional"
   ]
  },
  {
   "cell_type": "code",
   "execution_count": 66,
   "metadata": {
    "collapsed": false
   },
   "outputs": [
    {
     "name": "stdout",
     "output_type": "stream",
     "text": [
      "[  0   1   8  27  64 125 216 343 512 729]\n",
      "[ 8 27 64]\n",
      "[-1000     1 -1000    27 -1000   125   216   343   512   729]\n",
      "[  729   512   343   216   125 -1000    27 -1000     1 -1000]\n",
      "nan\n",
      "1.0\n",
      "nan\n",
      "3.0\n",
      "nan\n",
      "5.0\n",
      "6.0\n",
      "7.0\n",
      "8.0\n",
      "9.0\n",
      "23\n",
      "[ 1 11 21 31 41]\n",
      "[40 41 42 43]\n",
      "(2, 2, 3)\n",
      "[[100 101 102]\n",
      " [110 112 113]]\n",
      "[[  2  13]\n",
      " [102 113]]\n"
     ]
    },
    {
     "name": "stderr",
     "output_type": "stream",
     "text": [
      "C:\\ProgramData\\Anaconda3\\lib\\site-packages\\ipykernel\\__main__.py:13: RuntimeWarning: invalid value encountered in power\n"
     ]
    }
   ],
   "source": [
    "a = np.arange(10)**3\n",
    "print(a)\n",
    "\n",
    "## indexing\n",
    "\n",
    "print(a[2:5])\n",
    "a[:6:2] = -1000   # >> a[start:end:step]\n",
    "print(a)\n",
    "\n",
    "print(a[::-1])  # inverse the array\n",
    "\n",
    "for i in a:\n",
    "    print(i**(1/3.))\n",
    "    \n",
    "    \n",
    "### Mutimensitional\n",
    "\n",
    "def f(x,y):\n",
    "    return 10*x+y\n",
    "\n",
    "b = np.fromfunction(f,(5,4),dtype = int)\n",
    "### \n",
    "print(b[2,3])\n",
    "\n",
    "## b[row,column]\n",
    "\n",
    "print(b[0:5,1])\n",
    "\n",
    "### b[-1] = b[-1,:]\n",
    "\n",
    "print(b[-1])\n",
    "\n",
    "\n",
    "### dots(...) 用法\n",
    "###  assume x is a rank5 array\n",
    "## x[1,2,...] = x[1,2,3,4,5]\n",
    "\n",
    "## x[4,...,5...] = x[4,:,:,5,:]\n",
    "\n",
    "\n",
    "####  3D array\n",
    "\n",
    "c = np.array([[[0,1,2],\n",
    "            [10,12,13]],\n",
    "          \n",
    "           [[100,101,102],\n",
    "           [110,112,113]]])\n",
    "\n",
    "print(c.shape)\n",
    "\n",
    "print(c[1,...])\n",
    "\n",
    "print(c[...,2])"
   ]
  },
  {
   "cell_type": "markdown",
   "metadata": {},
   "source": [
    "## Iterating over multidimensional arrays is done with respec to first axis\n",
    "\n",
    "#### np.flat  >> can iterate over all array  \n"
   ]
  },
  {
   "cell_type": "code",
   "execution_count": 70,
   "metadata": {
    "collapsed": false
   },
   "outputs": [
    {
     "name": "stdout",
     "output_type": "stream",
     "text": [
      "[0 1 2 3]\n",
      "[10 11 12 13]\n",
      "[20 21 22 23]\n",
      "[30 31 32 33]\n",
      "[40 41 42 43]\n",
      "\n",
      "0\n",
      "1\n",
      "2\n",
      "3\n",
      "10\n",
      "11\n",
      "12\n",
      "13\n",
      "20\n",
      "21\n",
      "22\n",
      "23\n",
      "30\n",
      "31\n",
      "32\n",
      "33\n",
      "40\n",
      "41\n",
      "42\n",
      "43\n"
     ]
    }
   ],
   "source": [
    "for row in b:\n",
    "    print(row)\n",
    "\n",
    "print()\n",
    "for element in b.flat:\n",
    "    print(element)"
   ]
  },
  {
   "cell_type": "markdown",
   "metadata": {},
   "source": [
    "## Shape manipulation  "
   ]
  },
  {
   "cell_type": "code",
   "execution_count": 81,
   "metadata": {
    "collapsed": false
   },
   "outputs": [
    {
     "name": "stdout",
     "output_type": "stream",
     "text": [
      "(3, 4)\n",
      "[ 0.  5.  4.  6.  1.  6.  0.  0.  6.  1.  9.  8.]\n"
     ]
    },
    {
     "data": {
      "text/plain": [
       "array([[ 0.,  5.,  4.,  6.],\n",
       "       [ 1.,  6.,  0.,  0.],\n",
       "       [ 6.,  1.,  9.,  8.]])"
      ]
     },
     "execution_count": 81,
     "metadata": {},
     "output_type": "execute_result"
    }
   ],
   "source": [
    "a = np.floor(10*np.random.random((3,4)))\n",
    "print(a.shape)\n",
    "\n",
    "### faltten the array\n",
    "\n",
    "print(a.ravel())\n",
    "\n",
    "###  \n",
    "a.shape = (6,2)\n",
    "### Transpose\n",
    "\n",
    "a.T\n",
    "\n",
    "### reshape >> if dimension is -1, the other dimensions are automatically calculated\n",
    "\n",
    "a.reshape(3,-1)"
   ]
  },
  {
   "cell_type": "markdown",
   "metadata": {},
   "source": [
    "# Stacking array"
   ]
  },
  {
   "cell_type": "code",
   "execution_count": 96,
   "metadata": {
    "collapsed": false
   },
   "outputs": [
    {
     "name": "stdout",
     "output_type": "stream",
     "text": [
      "[[ 4.  6.]\n",
      " [ 3.  8.]\n",
      " [ 4.  3.]\n",
      " [ 0.  6.]]\n",
      "[[ 4.  6.  4.  3.]\n",
      " [ 3.  8.  0.  6.]]\n",
      "[[ 4.  6.  4.  3.]\n",
      " [ 3.  8.  0.  6.]]\n",
      "[[ 4.]\n",
      " [ 2.]]\n"
     ]
    }
   ],
   "source": [
    "a = np.floor(10*np.random.random((2,2)))\n",
    "b=  np.floor(10*np.random.random((2,2)))\n",
    "\n",
    "## vertical bind\n",
    "print(np.vstack((a,b)))\n",
    "\n",
    "## horizontal bind\n",
    "print(np.hstack((a,b)))\n",
    "\n",
    "### for 2D array, same as hstack\n",
    "print(np.column_stack((a,b)))\n",
    "\n",
    "a = np.array([4.,2.])\n",
    "print(a[:,np.newaxis])  ### This allows to have a 2D columns vector"
   ]
  },
  {
   "cell_type": "markdown",
   "metadata": {},
   "source": [
    "##  Array splitting"
   ]
  },
  {
   "cell_type": "code",
   "execution_count": 99,
   "metadata": {
    "collapsed": false
   },
   "outputs": [
    {
     "name": "stdout",
     "output_type": "stream",
     "text": [
      "[[ 0.  7.  5.  4.  7.  7.  9.  1.  8.  9.  9.  5.]\n",
      " [ 8.  0.  0.  6.  3.  1.  8.  2.  6.  2.  5.  6.]]\n",
      "[array([[ 0.,  7.,  5.,  4.],\n",
      "       [ 8.,  0.,  0.,  6.]]), array([[ 7.,  7.,  9.,  1.],\n",
      "       [ 3.,  1.,  8.,  2.]]), array([[ 8.,  9.,  9.,  5.],\n",
      "       [ 6.,  2.,  5.,  6.]])]\n",
      "[array([[ 0.,  7.,  5.],\n",
      "       [ 8.,  0.,  0.]]), array([[ 4.],\n",
      "       [ 6.]]), array([[ 7.,  7.,  9.,  1.,  8.,  9.,  9.,  5.],\n",
      "       [ 3.,  1.,  8.,  2.,  6.,  2.,  5.,  6.]])]\n"
     ]
    }
   ],
   "source": [
    "a = np.floor(10*np.random.random((2,12)))\n",
    "print(a)\n",
    "### horizontal split\n",
    "print(np.hsplit(a,3))  ## split a into 3 equal array\n",
    "\n",
    "print(np.hsplit(a,(3,4)))  ## split a after third and fourth column"
   ]
  },
  {
   "cell_type": "markdown",
   "metadata": {},
   "source": [
    "#  Copies And Views\n",
    "### Three cases"
   ]
  },
  {
   "cell_type": "code",
   "execution_count": 108,
   "metadata": {
    "collapsed": false
   },
   "outputs": [
    {
     "name": "stdout",
     "output_type": "stream",
     "text": [
      "True\n",
      "(3, 4)\n",
      "\n",
      "False\n",
      "True\n",
      "(3, 4)\n",
      "[[   0    1    2    3]\n",
      " [1234    5    6    7]\n",
      " [   8    9   10   11]]\n",
      "[[   0   10   10    3]\n",
      " [1234   10   10    7]\n",
      " [   8   10   10   11]]\n",
      "[[   0   10   10    3]\n",
      " [1234   10   10    7]\n",
      " [   8   10   10   11]]\n"
     ]
    }
   ],
   "source": [
    "### 1. No copy  >> simple assignment\n",
    "\n",
    "a = np.arange(12)\n",
    "b=  a\n",
    "print(b is a)\n",
    "\n",
    "### change b will also change a\n",
    "b.shape = (3,4)\n",
    "print(a.shape)\n",
    "\n",
    "\n",
    "###  View or shallow copy\n",
    "### the view method creates a new array object that looks at the same data\n",
    "print()\n",
    "c = a.view()\n",
    "print(c is a)\n",
    "print(c.base is a)\n",
    "\n",
    "c.shape = (2,6)\n",
    "print(a.shape)     ### not change\n",
    "c[0,4] = 1234\n",
    "print(a)     ## a change\n",
    "\n",
    "### Slicing an array returns a view of it\n",
    "\n",
    "s = a[:,1:3]\n",
    "s[:] = 10\n",
    "\n",
    "print(a)\n",
    "\n",
    "### Deep copy  >> make a complete copy\n",
    "\n",
    "### never change original data\n",
    "d = a.copy()\n",
    "d[0,0] = 999\n",
    "print(a)\n"
   ]
  },
  {
   "cell_type": "markdown",
   "metadata": {},
   "source": [
    "## Broadcast"
   ]
  },
  {
   "cell_type": "code",
   "execution_count": 113,
   "metadata": {
    "collapsed": false
   },
   "outputs": [
    {
     "data": {
      "text/plain": [
       "array([ 1,  1,  9, 64, 25])"
      ]
     },
     "execution_count": 113,
     "metadata": {},
     "output_type": "execute_result"
    }
   ],
   "source": [
    "### indexing\n",
    "\n",
    "a = np.arange(12)**2\n",
    "i = np.array([1,1,3,8,5])  ## array index\n",
    "a[i]   ## extract value form index"
   ]
  },
  {
   "cell_type": "markdown",
   "metadata": {},
   "source": [
    "# Boolean Array\n",
    "\n",
    "### USe boolean indexing to assign value"
   ]
  },
  {
   "cell_type": "code",
   "execution_count": 117,
   "metadata": {
    "collapsed": false
   },
   "outputs": [
    {
     "name": "stdout",
     "output_type": "stream",
     "text": [
      "[ 5  6  7  8  9 10 11]\n",
      "[[0 1 2 3]\n",
      " [4 0 0 0]\n",
      " [0 0 0 0]]\n"
     ]
    }
   ],
   "source": [
    "a = np.arange(12).reshape(3,4)\n",
    "b=  a>4\n",
    "print(a[b])   #  print a sequence of true value form a  \n",
    "### this is very useful for assignment\n",
    "\n",
    "a[b] = 0\n",
    "\n",
    "print(a)\n"
   ]
  },
  {
   "cell_type": "code",
   "execution_count": 123,
   "metadata": {
    "collapsed": false
   },
   "outputs": [
    {
     "name": "stdout",
     "output_type": "stream",
     "text": [
      "[[ 4  5  6  7]\n",
      " [ 8  9 10 11]]\n",
      "[[ 4  5  6  7]\n",
      " [ 8  9 10 11]]\n",
      "[[ 0  2]\n",
      " [ 4  6]\n",
      " [ 8 10]]\n"
     ]
    }
   ],
   "source": [
    "a = np.arange(12).reshape(3,4)\n",
    "b1 = np.array([False,True,True])\n",
    "b2 = np.array([True,False,True,False])\n",
    "\n",
    "print(a[b1,:])   ## same as a[1:,]\n",
    "print(a[b1])\n",
    "\n",
    "print(a[:,b2])  ## same as [:,(0,2)]\n"
   ]
  },
  {
   "cell_type": "markdown",
   "metadata": {},
   "source": [
    "# Linear Algebra"
   ]
  },
  {
   "cell_type": "code",
   "execution_count": 170,
   "metadata": {
    "collapsed": false
   },
   "outputs": [
    {
     "name": "stdout",
     "output_type": "stream",
     "text": [
      "[[ 1.  2.]\n",
      " [ 3.  4.]]\n",
      "\n",
      "[[ 1.  3.]\n",
      " [ 2.  4.]] \n",
      "\n",
      "[[-2.   1. ]\n",
      " [ 1.5 -0.5]] \n",
      "\n",
      "[[ 1.  0.]\n",
      " [ 0.  1.]] \n",
      "\n",
      "[[-1.  0.]\n",
      " [ 0. -1.]] \n",
      "\n"
     ]
    },
    {
     "data": {
      "text/plain": [
       "array([[-3.],\n",
       "       [ 4.]])"
      ]
     },
     "execution_count": 170,
     "metadata": {},
     "output_type": "execute_result"
    }
   ],
   "source": [
    "a = np.array([[1.0,2.0],[3.0,4.0]])\n",
    "print(a, end = \"\\n\\n\")\n",
    "\n",
    "print(a.transpose(), \"\\n\")\n",
    "\n",
    "print(np.linalg.inv(a),\"\\n\")\n",
    "\n",
    "## I matrix  >> unit matrix\n",
    "\n",
    "u = np.eye(2)\n",
    "print(u,\"\\n\")\n",
    "\n",
    "## matrix product  >> matrix 矩陣相乘,非內積\n",
    "j = np.array([[0.0,-1.0],[1.0,0.0]])\n",
    "\n",
    "print(np.dot(j,j),'\\n')\n",
    "\n",
    "## solve linear equation\n",
    "\n",
    "y = np.array([[5.],[7.]])\n",
    "\n",
    "np.linalg.solve(a,y)"
   ]
  },
  {
   "cell_type": "markdown",
   "metadata": {},
   "source": [
    "# Matrix"
   ]
  },
  {
   "cell_type": "code",
   "execution_count": 171,
   "metadata": {
    "collapsed": false
   },
   "outputs": [
    {
     "name": "stdout",
     "output_type": "stream",
     "text": [
      "<class 'numpy.matrixlib.defmatrix.matrix'>\n",
      "[[ 1.  3.]\n",
      " [ 2.  4.]] \n",
      "\n",
      "[[ 5.]\n",
      " [ 7.]] \n",
      "\n",
      "[[ 19.]\n",
      " [ 43.]]\n"
     ]
    },
    {
     "data": {
      "text/plain": [
       "matrix([[-3.],\n",
       "        [ 4.]])"
      ]
     },
     "execution_count": 171,
     "metadata": {},
     "output_type": "execute_result"
    }
   ],
   "source": [
    "A = np.matrix(\"1.0,2.0;3.0,4.0\")\n",
    "print(type(A))\n",
    "\n",
    "print(A.T,\"\\n\")\n",
    "\n",
    "X  = np.matrix('5.0,7.0')\n",
    "Y = X.T\n",
    "print(Y,\"\\n\")\n",
    "\n",
    "### matrix multiplication\n",
    "\n",
    "print(A*Y)  ## Equal to np.dot(A,Y)\n",
    "\n",
    "## solve linear equation\n",
    "np.linalg.solve(A,Y)\n",
    "\n"
   ]
  },
  {
   "cell_type": "markdown",
   "metadata": {},
   "source": [
    "# Compare array and Matrix\n",
    "\n",
    "### Slicing numpy doesn't make a copy of the data, slicing provieds a new view of the same data\n",
    "\n",
    "### A slice of a matrix will always produce a matrix\n",
    "\n",
    "### A slice of a matrix could produce a lower level array"
   ]
  },
  {
   "cell_type": "code",
   "execution_count": 176,
   "metadata": {
    "collapsed": false
   },
   "outputs": [
    {
     "name": "stdout",
     "output_type": "stream",
     "text": [
      "<class 'numpy.ndarray'>   <class 'numpy.matrixlib.defmatrix.matrix'>\n",
      "[[ 0  1  2  3]\n",
      " [ 4  5  6  7]\n",
      " [ 8  9 10 11]] \n",
      "\n",
      "[[ 0  1  2  3]\n",
      " [ 4  5  6  7]\n",
      " [ 8  9 10 11]]\n"
     ]
    }
   ],
   "source": [
    "A = np.arange(12)\n",
    "A.shape = (3,4)\n",
    "M = np.mat(A.copy())\n",
    "\n",
    "print(type(A),\" \",type(M))\n",
    "\n",
    "print(A,\"\\n\")\n",
    "\n",
    "print(M)"
   ]
  },
  {
   "cell_type": "code",
   "execution_count": 180,
   "metadata": {
    "collapsed": false
   },
   "outputs": [
    {
     "name": "stdout",
     "output_type": "stream",
     "text": [
      "[[ 0  1  2  3]\n",
      " [ 4  5  6  7]\n",
      " [ 8  9 10 11]]\n",
      "(3, 4) \n",
      "\n",
      "[[ 0  1  2  3]\n",
      " [ 4  5  6  7]\n",
      " [ 8  9 10 11]]\n",
      "(3, 4) \n",
      "\n",
      "[1 5 9]\n",
      "(1, 4) \n",
      "\n",
      "[[1]\n",
      " [5]\n",
      " [9]]\n",
      "(3, 1)\n"
     ]
    }
   ],
   "source": [
    "print(A[:]);print(A[:].shape,'\\n')\n",
    "\n",
    "print(M[:]); print(M[:].shape,'\\n')\n",
    "\n",
    "print(A[:,1]); print(A[:1].shape,'\\n')\n",
    "\n",
    "print(M[:,1]);print(M[:,1].shape)"
   ]
  },
  {
   "cell_type": "markdown",
   "metadata": {},
   "source": [
    "# Extract specific part of array"
   ]
  },
  {
   "cell_type": "code",
   "execution_count": 184,
   "metadata": {
    "collapsed": false
   },
   "outputs": [
    {
     "name": "stdout",
     "output_type": "stream",
     "text": [
      "[[ 1  3]\n",
      " [ 5  7]\n",
      " [ 9 11]] \n",
      "\n",
      "[[ 1  3]\n",
      " [ 5  7]\n",
      " [ 9 11]] \n",
      "\n",
      "[[ 5  7]\n",
      " [ 9 11]]\n"
     ]
    }
   ],
   "source": [
    "print(A[:,[1,3]],'\\n')   ## Extract column 1 and 3\n",
    "\n",
    "print(A[:,].take([1,3],axis = 1),'\\n')\n",
    "\n",
    "## if we want to skip the first row\n",
    "\n",
    "print(A[1:,].take([1,3],axis = 1))"
   ]
  },
  {
   "cell_type": "code",
   "execution_count": 186,
   "metadata": {
    "collapsed": false
   },
   "outputs": [
    {
     "data": {
      "text/plain": [
       "array([[ 2,  3],\n",
       "       [ 6,  7],\n",
       "       [10, 11]])"
      ]
     },
     "execution_count": 186,
     "metadata": {},
     "output_type": "execute_result"
    }
   ],
   "source": [
    "### example: retain all columns where first row is greater than 1\n",
    "\n",
    "A[0,:]>1\n",
    "\n",
    "A[:,A[0,:]>1]\n",
    "\n",
    "### Matrix slicing >> use \"A\"\n",
    "\n",
    "M[:,M.A[0,:]>1]\n"
   ]
  },
  {
   "cell_type": "markdown",
   "metadata": {},
   "source": [
    "# Tricks and Tips\n",
    "\n",
    "- Automatic Reshaping >> When change the dimension of an array, can omit one of the size which will be deduced automatically"
   ]
  },
  {
   "cell_type": "code",
   "execution_count": 194,
   "metadata": {
    "collapsed": false
   },
   "outputs": [
    {
     "name": "stdout",
     "output_type": "stream",
     "text": [
      "[[[ 0  1  2]\n",
      "  [ 3  4  5]\n",
      "  [ 6  7  8]\n",
      "  [ 9 10 11]\n",
      "  [12 13 14]]\n",
      "\n",
      " [[15 16 17]\n",
      "  [18 19 20]\n",
      "  [21 22 23]\n",
      "  [24 25 26]\n",
      "  [27 28 29]]]\n"
     ]
    }
   ],
   "source": [
    "a = np.arange(30)\n",
    "a.shape = (2,-1,3)\n",
    "a.shape\n",
    "\n",
    "print(a)"
   ]
  },
  {
   "cell_type": "code",
   "execution_count": null,
   "metadata": {
    "collapsed": true
   },
   "outputs": [],
   "source": []
  }
 ],
 "metadata": {
  "anaconda-cloud": {},
  "kernelspec": {
   "display_name": "Python [default]",
   "language": "python",
   "name": "python3"
  },
  "language_info": {
   "codemirror_mode": {
    "name": "ipython",
    "version": 3
   },
   "file_extension": ".py",
   "mimetype": "text/x-python",
   "name": "python",
   "nbconvert_exporter": "python",
   "pygments_lexer": "ipython3",
   "version": "3.5.2"
  }
 },
 "nbformat": 4,
 "nbformat_minor": 1
}
